{
 "cells": [
  {
   "cell_type": "code",
   "execution_count": 67,
   "metadata": {},
   "outputs": [],
   "source": [
    "import os\n",
    "import matplotlib.pyplot as plt\n",
    "import numpy as np\n",
    "from scipy.stats import linregress\n",
    "from scipy.optimize import curve_fit\n",
    "from scipy.fftpack import fftfreq, fft, ifft\n",
    "from uncertainties import ufloat\n",
    "from uncertainties import unumpy as unp\n",
    "from sklearn.metrics import r2_score \n",
    "\n",
    "def get_dat_paths():\n",
    "    current_dir = os.getcwd()\n",
    "    root_dir_relative = ''\n",
    "    root_dir = os.path.abspath(os.path.join(current_dir, root_dir_relative))\n",
    "\n",
    "    dat_paths = []\n",
    "    for dirpath, dirnames, filenames in os.walk(root_dir):\n",
    "        for filename in filenames:\n",
    "            if filename.endswith('.dat'):\n",
    "                dat_paths.append(os.path.join(dirpath, filename))\n",
    "    return dat_paths\n",
    "\n",
    "dat_paths = get_dat_paths()"
   ]
  },
  {
   "cell_type": "code",
   "execution_count": 68,
   "metadata": {},
   "outputs": [],
   "source": [
    "def get_data_from_path(path):\n",
    "    # 读取文件内容\n",
    "    with open(path, 'r', encoding='cp1252') as file:\n",
    "        lines = file.readlines()\n",
    "\n",
    "    distance = path.split('/')[-1]\n",
    "    distance = float(distance.removesuffix('mm.dat').replace('-','.')) / 10.\n",
    "\n",
    "    # 创建字典来存储参数\n",
    "    parameters = {}\n",
    "\n",
    "    # 逐行读取文件内容\n",
    "    for line in lines:\n",
    "        # 去除行首尾的空白符\n",
    "        line = line.strip()\n",
    "        # 忽略空行和注释行\n",
    "        if not line or line.startswith('#'):\n",
    "            continue\n",
    "        # 如果行包含等号，则将其解析为键值对\n",
    "        if '=' in line:\n",
    "            key, value = line.split('=')\n",
    "            parameters[key.strip()] = value.strip()\n",
    "\n",
    "        # 读取数据表格\n",
    "    data_start = False\n",
    "    # data = []\n",
    "    times, hfs, amps = [], [], []\n",
    "\n",
    "    for line in lines:\n",
    "        if line.startswith(\"Depth [\"):\n",
    "            data_start = True\n",
    "            continue\n",
    "        if data_start and line.strip():\n",
    "            # data.append(line.strip().split())\n",
    "            time, hf, amp = line.strip().split()\n",
    "            times.append(float(time))\n",
    "            hfs.append(float(hf))\n",
    "            amps.append(float(amp))\n",
    "\n",
    "    times = np.array(times)\n",
    "    hfs = np.array(hfs)\n",
    "    amps= np.array(amps)\n",
    "\n",
    "    return times, hfs, amps, distance\n",
    "\n"
   ]
  },
  {
   "cell_type": "code",
   "execution_count": 69,
   "metadata": {},
   "outputs": [
    {
     "data": {
      "text/plain": [
       "(0.0, 5.0)"
      ]
     },
     "execution_count": 69,
     "metadata": {},
     "output_type": "execute_result"
    },
    {
     "data": {
      "image/png": "[encoded data removed]",
      "text/plain": [
       "<Figure size 432x288 with 1 Axes>"
      ]
     },
     "metadata": {
      "needs_background": "light"
     },
     "output_type": "display_data"
    }
   ],
   "source": [
    "path = dat_paths[3]\n",
    "times, hfs, amps, distance = get_data_from_path(path)\n",
    "\n",
    "mask = np.where((times > 20)*(amps > 0.02))\n",
    "\n",
    "echo_time = times[mask][0]\n",
    "\n",
    "amplitude = max(amps[mask])\n",
    "\n",
    "N = len(times[mask])\n",
    "dt = np.average(np.diff(times[mask]))\n",
    "\n",
    "xf = fftfreq(N,dt)\n",
    "yf = fft(hfs[mask])\n",
    "\n",
    "plt.plot(xf,np.abs(yf))\n",
    "plt.xlim(0,5)"
   ]
  },
  {
   "cell_type": "code",
   "execution_count": 70,
   "metadata": {},
   "outputs": [
    {
     "data": {
      "text/plain": [
       "<matplotlib.collections.PathCollection at 0x14a099f60>"
      ]
     },
     "execution_count": 70,
     "metadata": {},
     "output_type": "execute_result"
    },
    {
     "data": {
      "image/png": "[encoded data removed]",
      "text/plain": [
       "<Figure size 432x288 with 1 Axes>"
      ]
     },
     "metadata": {
      "needs_background": "light"
     },
     "output_type": "display_data"
    }
   ],
   "source": [
    "plt.plot(times,amps, color = 'black')\n",
    "plt.plot(times,hfs, alpha=0.5, color = 'black')\n",
    "plt.title(f'amplitude to time (distance = {distance:.1f} cm)')\n",
    "plt.scatter([echo_time],[amplitude])"
   ]
  },
  {
   "cell_type": "code",
   "execution_count": 71,
   "metadata": {},
   "outputs": [],
   "source": [
    "echo_times = []\n",
    "amplitudes = []\n",
    "distances = []\n",
    "\n",
    "for path in dat_paths:\n",
    "    times, hfs, amps, distance = get_data_from_path(path)\n",
    "    mask = np.where((times > 20)*(amps > 0.02))\n",
    "\n",
    "    echo_time = times[mask][0]\n",
    "    amplitude = max(amps[mask])\n",
    "\n",
    "    distances.append(distance)\n",
    "    \n",
    "    echo_times.append(echo_time)\n",
    "    amplitudes.append(amplitude)\n",
    "\n",
    "echo_times = np.array(echo_times)\n",
    "amplitudes = np.array(amplitudes)\n",
    "distances = np.array(distances)"
   ]
  },
  {
   "cell_type": "code",
   "execution_count": 72,
   "metadata": {},
   "outputs": [
    {
     "name": "stdout",
     "output_type": "stream",
     "text": [
      "1481.6+/-1.5 m/s\n"
     ]
    },
    {
     "data": {
      "image/png": "[encoded data removed]",
      "text/plain": [
       "<Figure size 432x288 with 1 Axes>"
      ]
     },
     "metadata": {
      "needs_background": "light"
     },
     "output_type": "display_data"
    }
   ],
   "source": [
    "plt.scatter(echo_times, distances)\n",
    "slope, intercept, r_value, p_value, std_err = linregress(echo_times, distances)\n",
    "print(speed := 2* ufloat(slope,std_err) * 1e-2/1e-6, 'm/s')\n",
    "delta_distance = - intercept\n",
    "\n",
    "distances += delta_distance"
   ]
  },
  {
   "cell_type": "code",
   "execution_count": 73,
   "metadata": {},
   "outputs": [
    {
     "data": {
      "text/plain": [
       "(0.0, 12.574517220267216)"
      ]
     },
     "execution_count": 73,
     "metadata": {},
     "output_type": "execute_result"
    },
    {
     "data": {
      "image/png": "[encoded data removed]",
      "text/plain": [
       "<Figure size 432x288 with 1 Axes>"
      ]
     },
     "metadata": {
      "needs_background": "light"
     },
     "output_type": "display_data"
    }
   ],
   "source": [
    "plt.scatter(echo_times, distances)\n",
    "plt.xlim(0)\n",
    "plt.ylim(0)"
   ]
  },
  {
   "cell_type": "code",
   "execution_count": 74,
   "metadata": {},
   "outputs": [
    {
     "data": {
      "text/plain": [
       "-0.07877190927920029+/-0.003062351476570356"
      ]
     },
     "execution_count": 74,
     "metadata": {},
     "output_type": "execute_result"
    },
    {
     "data": {
      "image/png": "[encoded data removed]",
      "text/plain": [
       "<Figure size 432x288 with 1 Axes>"
      ]
     },
     "metadata": {
      "needs_background": "light"
     },
     "output_type": "display_data"
    }
   ],
   "source": [
    "\n",
    "plt.scatter(distances,np.log(amplitudes))\n",
    "\n",
    "mask = np.where(distances > 7)\n",
    "\n",
    "plt.scatter(xs := distances[mask],ys := np.log(amplitudes[mask]))\n",
    "slope, intercept, r_value, p_value, std_err = linregress(xs,ys)\n",
    "plt.plot(xs, slope * xs + intercept)\n",
    "ufloat(slope, std_err)"
   ]
  },
  {
   "cell_type": "markdown",
   "metadata": {},
   "source": [
    "\\begin{equation}\n",
    "I=I_0 e^{-\\alpha x}\n",
    "\\end{equation}\n",
    "\n",
    "\\begin{equation}\n",
    "\\ln\\left(\\frac{A}{1V}\\right)=-\\frac{\\alpha}{2} x + \\ln\\left(\\frac{A_0}{1V}\\right)\n",
    "\\end{equation}\n"
   ]
  },
  {
   "cell_type": "code",
   "execution_count": 75,
   "metadata": {},
   "outputs": [],
   "source": [
    "def value_compare(exp_value, th_value_text, unit = '', latex = False):\n",
    "    th_value = float(th_value_text)\n",
    "    error = ((exp_value - th_value)/th_value ).n * 100\n",
    "    if latex:\n",
    "        exp_value_text = str(exp_value).replace('+/-', '(') + ')'\n",
    "    else:\n",
    "        exp_value_text = str(exp_value)\n",
    "    # th_value_text = str(format(th_val e,'e')).replace('+/-', '\\pm')\n",
    "    output = '\\SI{'+ exp_value_text + '}{' + unit + '}，與理論值\\SI{' + th_value_text + '}{' + unit + '}誤差為\\SI{' + f'{error: .1f}' + '}{\\percent}'\n",
    "    if latex:\n",
    "        print(output)\n",
    "    else:\n",
    "        print(output.replace('\\SI','').replace('{','').replace('}','').replace('\\percent','%'))"
   ]
  },
  {
   "cell_type": "code",
   "execution_count": 76,
   "metadata": {},
   "outputs": [
    {
     "name": "stdout",
     "output_type": "stream",
     "text": [
      "0.0181+/-0.0007dB/cm，與理論值0.02dB/cm誤差為-9.3%\n"
     ]
    }
   ],
   "source": [
    "alpha = -ufloat(slope,std_err)*2/8.686\n",
    "value_compare(alpha, '0.02', 'dB/cm')"
   ]
  },
  {
   "cell_type": "markdown",
   "metadata": {},
   "source": [
    "当声波在液体中传播时，由于吸收(能量转换)、反射、散射或声场的几何形状而衰减。对于整个衰减:\n",
    "\n",
    "对于许多液体，反射和散射可以忽略不计。声场几何形状的影响可以通过在水中进行比较测量来估计，在水中，低频吸收可以忽略不计。对于声波强度的减弱，适用以下一般衰减定律:"
   ]
  },
  {
   "cell_type": "markdown",
   "metadata": {},
   "source": []
  },
  {
   "cell_type": "code",
   "execution_count": null,
   "metadata": {},
   "outputs": [],
   "source": []
  },
  {
   "cell_type": "code",
   "execution_count": null,
   "metadata": {},
   "outputs": [],
   "source": []
  },
  {
   "cell_type": "code",
   "execution_count": null,
   "metadata": {},
   "outputs": [],
   "source": []
  }
 ],
 "metadata": {
  "kernelspec": {
   "display_name": "Python 3",
   "language": "python",
   "name": "python3"
  },
  "language_info": {
   "codemirror_mode": {
    "name": "ipython",
    "version": 3
   },
   "file_extension": ".py",
   "mimetype": "text/x-python",
   "name": "python",
   "nbconvert_exporter": "python",
   "pygments_lexer": "ipython3",
   "version": "3.10.1"
  }
 },
 "nbformat": 4,
 "nbformat_minor": 2
}

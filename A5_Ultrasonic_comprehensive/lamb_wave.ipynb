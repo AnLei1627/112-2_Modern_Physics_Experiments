{
 "cells": [
  {
   "cell_type": "code",
   "execution_count": 132,
   "metadata": {},
   "outputs": [],
   "source": [
    "import csv\n",
    "import numpy as np\n",
    "import matplotlib.pyplot as plt\n",
    "from uncertainties import ufloat\n",
    "\n",
    "with open('group_vel.csv') as f:\n",
    "    reader = csv.reader(f, delimiter='\\t')\n",
    "    s0x, s0y, a1x, a1y, s2x, s2y = [], [], [], [], [], []\n",
    "    for row in reader:\n",
    "        fd, s0, a1, s2 = row\n",
    "        if s0:\n",
    "            s0x.append(float(fd))\n",
    "            s0y.append(float(s0))\n",
    "        if a1:\n",
    "            a1x.append(float(fd))\n",
    "            a1y.append(float(a1))\n",
    "        if s2:\n",
    "            s2x.append(float(fd))\n",
    "            s2y.append(float(s2))\n",
    "\n",
    "s0x_measured = [0.9888,\n",
    "1.4976,\n",
    "2.3424,\n",
    "1.7952,\n",
    "2.112]\n",
    "s0y_measured = [5.510017702,\n",
    "4.813538886,\n",
    "3.91342233,\n",
    "5.502161343,\n",
    "5.349416755]\n",
    "s0y_err = [0.108094983,\n",
    "0.109318956,\n",
    "0.094135691,\n",
    "0.076680306,\n",
    "0.047457999]\n",
    "\n",
    "a1x_measured = [2.05, 2.15, 2.9952,3.7944, 4.39]\n",
    "a1y_measured = [2.801640277, 3.01752076, 4.272284123, 3.227878593, 2.840087118]\n",
    "a1y_err = [0.4821477,\n",
    "0.09030179,\n",
    "0.082964851,\n",
    "0.102012956,\n",
    "]\n",
    "\n",
    "s2x_measured = [4.10] \n",
    "s2y_measured = [2.762133383]\n",
    "s2y_err = [0.146724266]\n",
    "        "
   ]
  },
  {
   "cell_type": "code",
   "execution_count": 133,
   "metadata": {},
   "outputs": [
    {
     "data": {
      "image/png": "[encoded data removed]",
      "text/plain": [
       "<Figure size 576x360 with 1 Axes>"
      ]
     },
     "metadata": {
      "needs_background": "light"
     },
     "output_type": "display_data"
    }
   ],
   "source": [
    "plt.figure(figsize=(8,5))\n",
    "# plt.title('Lamb Wave Group Velocity')\n",
    "\n",
    "plt.ylabel(r'Group Velocity $v_g$ [km/s]')\n",
    "plt.xlabel(r'frequency $\\cdot$ thickness [MHz$\\cdot$mm]')\n",
    "\n",
    "plt.xlim(0,6)\n",
    "plt.ylim(0,7)\n",
    "\n",
    "plt.grid()\n",
    "\n",
    "plt.plot(s0x, s0y, \n",
    "         label = 'S0, theoretical', color = 'blue')\n",
    "plt.scatter(s0x_measured, s0y_measured, \n",
    "            label = 'S0, measured', color = 'blue', marker = 'x')\n",
    "\n",
    "plt.plot(a1x, a1y, \n",
    "         label = 'A1, theoretical', color = 'red', linestyle = '--')\n",
    "plt.scatter(a1x_measured, a1y_measured, \n",
    "            label = 'A1, measured', color = 'red', marker = 's')\n",
    "\n",
    "plt.plot(s2x, s2y, \n",
    "         label = 'S2, theoretical', linestyle = '-.', color = 'green')\n",
    "plt.scatter(s2x_measured, s2y_measured, \n",
    "            label = 'S2, measured', color = 'green', marker = 'D')\n",
    "\n",
    "plt.legend()\n",
    "\n",
    "plt.savefig('PHY21.png')"
   ]
  },
  {
   "cell_type": "code",
   "execution_count": 134,
   "metadata": {},
   "outputs": [
    {
     "name": "stdout",
     "output_type": "stream",
     "text": [
      "0.5649149227934267\n"
     ]
    }
   ],
   "source": [
    "chisq0 = 0.\n",
    "for x,y in zip(s0x_measured, s0y_measured):\n",
    "    obs = y\n",
    "    est = s0y[np.argmin(np.abs(np.array(s0x)-x))]\n",
    "    chisq0 += (obs-est)**2 / est\n",
    "print(chisq0)"
   ]
  },
  {
   "cell_type": "code",
   "execution_count": 135,
   "metadata": {},
   "outputs": [
    {
     "name": "stdout",
     "output_type": "stream",
     "text": [
      "0.09702657428142246\n"
     ]
    }
   ],
   "source": [
    "chisq1 = 0.\n",
    "for x,y in zip(a1x_measured, a1y_measured):\n",
    "    obs = y\n",
    "    est = a1y[np.argmin(np.abs(np.array(a1x)-x))]\n",
    "    chisq1 += (obs-est)**2 / est\n",
    "print(chisq1)"
   ]
  },
  {
   "cell_type": "code",
   "execution_count": 136,
   "metadata": {},
   "outputs": [
    {
     "name": "stdout",
     "output_type": "stream",
     "text": [
      "0.0024136647497450623\n"
     ]
    }
   ],
   "source": [
    "chisq2 = 0.\n",
    "for x,y in zip(s2x_measured, s2y_measured):\n",
    "    obs = y\n",
    "    est = s2y[np.argmin(np.abs(np.array(s2x)-x))]\n",
    "    chisq2 += (obs-est)**2 / est\n",
    "print(chisq2)"
   ]
  },
  {
   "cell_type": "code",
   "execution_count": 137,
   "metadata": {},
   "outputs": [
    {
     "name": "stdout",
     "output_type": "stream",
     "text": [
      "5.510017702\n",
      "4.813538886\n",
      "3.91342233\n",
      "5.502161343\n",
      "5.349416755\n",
      "2.801640277\n",
      "3.01752076\n",
      "4.272284123\n",
      "3.227878593\n",
      "2.840087118\n",
      "2.762133383\n"
     ]
    }
   ],
   "source": [
    "fx_s = [0.9888,\n",
    "1.4976,\n",
    "2.3424,\n",
    "1.7952,\n",
    "2.112,\n",
    "2.05, 2.15, 2.9952,3.7944, 4.39,\n",
    "4.10\n",
    "]\n",
    "v_s = [5.510017702,\n",
    "4.813538886,\n",
    "3.91342233,\n",
    "5.502161343,\n",
    "5.349416755,\n",
    "2.801640277, 3.01752076, 4.272284123, 3.227878593, 2.840087118,\n",
    "2.762133383\n",
    "]\n",
    "err_s = [0.108094983,\n",
    "0.109318956,\n",
    "0.094135691,\n",
    "0.076680306,\n",
    "0.047457999,\n",
    "0.4821477,\n",
    "0.09030179,\n",
    "0.082964851,\n",
    "0.102012956,\n",
    "0.146724266\n",
    "]\n",
    "for _ in v_s: print(_)"
   ]
  },
  {
   "cell_type": "code",
   "execution_count": 138,
   "metadata": {},
   "outputs": [
    {
     "name": "stdout",
     "output_type": "stream",
     "text": [
      "\\SI{5.51(0.11)}{}\n",
      "\\SI{4.81(0.11)}{}\n",
      "\\SI{3.91(0.09)}{}\n",
      "\\SI{5.50(0.08)}{}\n",
      "\\SI{5.35(0.05)}{}\n",
      "\\SI{2.8(0.5)}{}\n",
      "\\SI{3.02(0.09)}{}\n",
      "\\SI{4.27(0.08)}{}\n",
      "\\SI{3.23(0.10)}{}\n",
      "\\SI{2.84(0.15)}{}\n"
     ]
    }
   ],
   "source": [
    "v_s = ['\\SI{'+str(ufloat(n,e)).replace('+/-','(')+')}{}' for n,e in zip(v_s, err_s)]\n",
    "for _ in v_s: print(_)\n",
    "\n"
   ]
  },
  {
   "cell_type": "code",
   "execution_count": 139,
   "metadata": {},
   "outputs": [
    {
     "name": "stdout",
     "output_type": "stream",
     "text": [
      "2.784\n",
      "3.099\n",
      "3.984\n",
      "3.729\n",
      "2.98\n"
     ]
    }
   ],
   "source": [
    "for x in a1x_measured:\n",
    "    y = a1y[np.argmin(np.abs(np.array(a1x) - x))]\n",
    "    print(y)\n",
    "\n",
    "    "
   ]
  },
  {
   "cell_type": "markdown",
   "metadata": {},
   "source": []
  }
 ],
 "metadata": {
  "kernelspec": {
   "display_name": "Python 3",
   "language": "python",
   "name": "python3"
  },
  "language_info": {
   "codemirror_mode": {
    "name": "ipython",
    "version": 3
   },
   "file_extension": ".py",
   "mimetype": "text/x-python",
   "name": "python",
   "nbconvert_exporter": "python",
   "pygments_lexer": "ipython3",
   "version": "3.10.1"
  }
 },
 "nbformat": 4,
 "nbformat_minor": 2
}

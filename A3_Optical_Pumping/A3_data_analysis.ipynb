{
 "cells": [
  {
   "cell_type": "code",
   "execution_count": 100,
   "metadata": {},
   "outputs": [],
   "source": [
    "import numpy as np\n",
    "from uncertainties import ufloat"
   ]
  },
  {
   "cell_type": "markdown",
   "metadata": {},
   "source": [
    "# 計算 g factor\n",
    "$$ g_F = \\frac{hf}{\\mu_B B} $$\n",
    "uncertainty:\n",
    "$$ u_g = g_F\\sqrt{(u_B/B)^2+(u_f/f)^2} $$"
   ]
  },
  {
   "cell_type": "code",
   "execution_count": 101,
   "metadata": {},
   "outputs": [
    {
     "name": "stdout",
     "output_type": "stream",
     "text": [
      "B= (9.34+/-0.14)e-05\n",
      "Bv= (2.64+/-0.18)e-05\n"
     ]
    }
   ],
   "source": [
    "h = 6.62607015E-34\n",
    "i = ufloat(0.200,0.003)\n",
    "mu = 4*np.pi*1e-7 # 真空磁導率\n",
    "mu_B = 9.2740100783e-24 # 波爾磁子\n",
    "N = 125\n",
    "R = ufloat(0.2406,0.0003)\n",
    "print('B=', b := (4/5)**(3/2)* mu * N * i / R)\n",
    "\n",
    "i_v = ufloat(0.045, 0.003)\n",
    "R_v = ufloat(0.1530, 0.0003)\n",
    "print('Bv=', bv := (4/5)**(3/2) * mu * 100 * i_v / R_v)\n",
    "\n",
    "uf = 3"
   ]
  },
  {
   "cell_type": "code",
   "execution_count": 102,
   "metadata": {},
   "outputs": [],
   "source": [
    "def get_g_from_f(f1,f2):\n",
    "    f1 = ufloat(f1,uf)\n",
    "    f2 = ufloat(f2,uf)\n",
    "    print('f=',f := (f1+f2)/2*1e3)\n",
    "    print('g=',g := h*f/mu_B/b)"
   ]
  },
  {
   "cell_type": "code",
   "execution_count": 103,
   "metadata": {},
   "outputs": [
    {
     "name": "stdout",
     "output_type": "stream",
     "text": [
      "高高\n",
      "f= (7.560+/-0.021)e+05\n",
      "g= 0.578+/-0.009\n",
      "高低\n",
      "f= (7.145+/-0.021)e+05\n",
      "g= 0.546+/-0.008\n"
     ]
    }
   ],
   "source": [
    "print(\"高高\")\n",
    "f1, f2 = 1152, 360\n",
    "get_g_from_f(f1,f2)\n",
    "print(\"高低\")\n",
    "f1, f2 = 951, 478\n",
    "get_g_from_f(f1,f2)"
   ]
  },
  {
   "cell_type": "markdown",
   "metadata": {},
   "source": [
    "# Breit-Rabi"
   ]
  },
  {
   "cell_type": "code",
   "execution_count": 115,
   "metadata": {},
   "outputs": [
    {
     "name": "stdout",
     "output_type": "stream",
     "text": [
      "B_h= (3.86+/-0.05)e-05\n",
      "B_h= (3.915+/-0.030)e-05\n",
      "B_earth= (4.70+/-0.10)e-05\n"
     ]
    }
   ],
   "source": [
    "def get_bh(f1,f2, g):\n",
    "    f1 = ufloat(f1,uf)\n",
    "    f2 = ufloat(f2,uf)\n",
    "    f = (f1-f2)/2 * 1000\n",
    "    print(\"B_h=\", bh := h * f / mu_B / g)\n",
    "    return bh\n",
    "\n",
    "bh85 = get_bh(765, 405, 1/3)\n",
    "bh87 = get_bh(1152, 604, 1/2)\n",
    "bh = (bh85+bh87)/2\n",
    "bv, bh\n",
    "print('B_earth=', B_earth := (bh*bh+bv*bv)**0.5)"
   ]
  },
  {
   "cell_type": "code",
   "execution_count": null,
   "metadata": {},
   "outputs": [],
   "source": []
  },
  {
   "cell_type": "code",
   "execution_count": null,
   "metadata": {},
   "outputs": [],
   "source": []
  }
 ],
 "metadata": {
  "kernelspec": {
   "display_name": "Python 3",
   "language": "python",
   "name": "python3"
  },
  "language_info": {
   "codemirror_mode": {
    "name": "ipython",
    "version": 3
   },
   "file_extension": ".py",
   "mimetype": "text/x-python",
   "name": "python",
   "nbconvert_exporter": "python",
   "pygments_lexer": "ipython3",
   "version": "3.11.3"
  }
 },
 "nbformat": 4,
 "nbformat_minor": 2
}
